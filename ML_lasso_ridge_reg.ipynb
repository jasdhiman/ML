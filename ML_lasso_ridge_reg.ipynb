{
 "cells": [
  {
   "cell_type": "markdown",
   "id": "e4921659",
   "metadata": {},
   "source": [
    "### Lasso and Ridge Regression"
   ]
  },
  {
   "cell_type": "markdown",
   "id": "5591ac1c",
   "metadata": {},
   "source": [
    "linear regression model can overfit, and give error when testing. To take care of this issue, we can penalize the regression using techniques such as Lasso and Ridge regression. This is also known as regularizing / generalizing the model.\n",
    "\n",
    "Idea is to minimize cost function, i.e. sum of square of diff between actaul and predicted.\n",
    "\n",
    "In lasso we add lambda/alpha (default value of 1) multiplied by magnitude of slope. In ridge, we do the same thing but multiply with square of slope magnitude. (L1 and L2 techniques)."
   ]
  },
  {
   "cell_type": "markdown",
   "id": "eb149275",
   "metadata": {},
   "source": [
    "##### used the linear regression code developed for prediction of house prices\n",
    "Then save that clean file and use it here"
   ]
  },
  {
   "cell_type": "code",
   "execution_count": 1,
   "id": "49a3337f",
   "metadata": {},
   "outputs": [],
   "source": [
    "# importing resources\n",
    "import pandas as pd\n",
    "import numpy as np"
   ]
  },
  {
   "cell_type": "code",
   "execution_count": 19,
   "id": "6245700a",
   "metadata": {},
   "outputs": [
    {
     "data": {
      "text/html": [
       "<div>\n",
       "<style scoped>\n",
       "    .dataframe tbody tr th:only-of-type {\n",
       "        vertical-align: middle;\n",
       "    }\n",
       "\n",
       "    .dataframe tbody tr th {\n",
       "        vertical-align: top;\n",
       "    }\n",
       "\n",
       "    .dataframe thead th {\n",
       "        text-align: right;\n",
       "    }\n",
       "</style>\n",
       "<table border=\"1\" class=\"dataframe\">\n",
       "  <thead>\n",
       "    <tr style=\"text-align: right;\">\n",
       "      <th></th>\n",
       "      <th>Unnamed: 0</th>\n",
       "      <th>bath</th>\n",
       "      <th>balcony</th>\n",
       "      <th>price</th>\n",
       "      <th>area_sqft</th>\n",
       "      <th>bedrooms</th>\n",
       "      <th>area_type_Carpet  Area</th>\n",
       "      <th>area_type_Plot  Area</th>\n",
       "      <th>area_type_Super built-up  Area</th>\n",
       "      <th>availability_Ready To Move</th>\n",
       "    </tr>\n",
       "  </thead>\n",
       "  <tbody>\n",
       "    <tr>\n",
       "      <th>0</th>\n",
       "      <td>0</td>\n",
       "      <td>2.0</td>\n",
       "      <td>1.0</td>\n",
       "      <td>39.07</td>\n",
       "      <td>1056.0</td>\n",
       "      <td>2</td>\n",
       "      <td>0</td>\n",
       "      <td>0</td>\n",
       "      <td>1</td>\n",
       "      <td>0</td>\n",
       "    </tr>\n",
       "    <tr>\n",
       "      <th>1</th>\n",
       "      <td>1</td>\n",
       "      <td>5.0</td>\n",
       "      <td>3.0</td>\n",
       "      <td>120.00</td>\n",
       "      <td>2600.0</td>\n",
       "      <td>4</td>\n",
       "      <td>0</td>\n",
       "      <td>1</td>\n",
       "      <td>0</td>\n",
       "      <td>1</td>\n",
       "    </tr>\n",
       "    <tr>\n",
       "      <th>2</th>\n",
       "      <td>2</td>\n",
       "      <td>2.0</td>\n",
       "      <td>3.0</td>\n",
       "      <td>62.00</td>\n",
       "      <td>1440.0</td>\n",
       "      <td>3</td>\n",
       "      <td>0</td>\n",
       "      <td>0</td>\n",
       "      <td>0</td>\n",
       "      <td>1</td>\n",
       "    </tr>\n",
       "    <tr>\n",
       "      <th>3</th>\n",
       "      <td>3</td>\n",
       "      <td>3.0</td>\n",
       "      <td>1.0</td>\n",
       "      <td>95.00</td>\n",
       "      <td>1521.0</td>\n",
       "      <td>3</td>\n",
       "      <td>0</td>\n",
       "      <td>0</td>\n",
       "      <td>1</td>\n",
       "      <td>1</td>\n",
       "    </tr>\n",
       "    <tr>\n",
       "      <th>4</th>\n",
       "      <td>4</td>\n",
       "      <td>2.0</td>\n",
       "      <td>1.0</td>\n",
       "      <td>51.00</td>\n",
       "      <td>1200.0</td>\n",
       "      <td>2</td>\n",
       "      <td>0</td>\n",
       "      <td>0</td>\n",
       "      <td>1</td>\n",
       "      <td>1</td>\n",
       "    </tr>\n",
       "  </tbody>\n",
       "</table>\n",
       "</div>"
      ],
      "text/plain": [
       "   Unnamed: 0  bath  balcony   price  area_sqft  bedrooms  \\\n",
       "0           0   2.0      1.0   39.07     1056.0         2   \n",
       "1           1   5.0      3.0  120.00     2600.0         4   \n",
       "2           2   2.0      3.0   62.00     1440.0         3   \n",
       "3           3   3.0      1.0   95.00     1521.0         3   \n",
       "4           4   2.0      1.0   51.00     1200.0         2   \n",
       "\n",
       "   area_type_Carpet  Area  area_type_Plot  Area  \\\n",
       "0                       0                     0   \n",
       "1                       0                     1   \n",
       "2                       0                     0   \n",
       "3                       0                     0   \n",
       "4                       0                     0   \n",
       "\n",
       "   area_type_Super built-up  Area  availability_Ready To Move  \n",
       "0                               1                           0  \n",
       "1                               0                           1  \n",
       "2                               0                           1  \n",
       "3                               1                           1  \n",
       "4                               1                           1  "
      ]
     },
     "execution_count": 19,
     "metadata": {},
     "output_type": "execute_result"
    }
   ],
   "source": [
    "# importing\n",
    "path = r\"C:\\DS\\house_price\\df_clean.csv\"\n",
    "df = pd.read_csv(path)\n",
    "df.head()"
   ]
  },
  {
   "cell_type": "code",
   "execution_count": 21,
   "id": "6f0ca5a9",
   "metadata": {},
   "outputs": [
    {
     "data": {
      "text/plain": [
       "0.4781208054019941"
      ]
     },
     "execution_count": 21,
     "metadata": {},
     "output_type": "execute_result"
    }
   ],
   "source": [
    "# performing regression with this dataset as in previous case\n",
    "# splittin x y\n",
    "x = df.drop(['price'], axis=1)\n",
    "y = df['price']\n",
    "\n",
    "# train test split\n",
    "from sklearn.model_selection import train_test_split as tts\n",
    "xtr, xt, ytr, yt = tts(x, y, test_size=0.2, random_state=108)\n",
    "\n",
    "# feature scaling\n",
    "from sklearn.preprocessing import StandardScaler\n",
    "sc = StandardScaler()\n",
    "sc.fit(xtr)\n",
    "xtr = sc.transform(xtr)\n",
    "xt = sc.transform(xt) # we do not transformthe response\n",
    "\n",
    "from sklearn.linear_model import LinearRegression\n",
    "lr = LinearRegression() # for both simple and multiple linear regression\n",
    "lr.fit(xtr, ytr) # training\n",
    "\n",
    "lr.score(xt, yt)"
   ]
  },
  {
   "cell_type": "code",
   "execution_count": 22,
   "id": "9cfe443b",
   "metadata": {},
   "outputs": [],
   "source": [
    "# we have 47% accuracy\n",
    "# let us assume this is overfit model\n",
    "# using lasso / ridge"
   ]
  },
  {
   "cell_type": "markdown",
   "id": "e011aa71",
   "metadata": {},
   "source": [
    "### Implementing ridge / lasso regression"
   ]
  },
  {
   "cell_type": "code",
   "execution_count": 23,
   "id": "a966b6ac",
   "metadata": {},
   "outputs": [],
   "source": [
    "# importing\n",
    "from sklearn.linear_model import Ridge, Lasso"
   ]
  },
  {
   "cell_type": "code",
   "execution_count": 24,
   "id": "52fbcbdf",
   "metadata": {},
   "outputs": [
    {
     "data": {
      "text/plain": [
       "0.478115451822966"
      ]
     },
     "execution_count": 24,
     "metadata": {},
     "output_type": "execute_result"
    }
   ],
   "source": [
    "rd = Ridge() # default value of alpha = 1, which is main parameter\n",
    "\n",
    "rd.fit(xtr, ytr)\n",
    "\n",
    "rd.score(xt, yt)"
   ]
  },
  {
   "cell_type": "code",
   "execution_count": null,
   "id": "0d64089b",
   "metadata": {},
   "outputs": [],
   "source": [
    "# this is slightly different\n",
    "# now we use Lasso"
   ]
  },
  {
   "cell_type": "code",
   "execution_count": 25,
   "id": "7f9bcacc",
   "metadata": {},
   "outputs": [
    {
     "data": {
      "text/plain": [
       "0.47770662723758206"
      ]
     },
     "execution_count": 25,
     "metadata": {},
     "output_type": "execute_result"
    }
   ],
   "source": [
    "ls = Lasso() # default value of alpha = 1, which is main parameter\n",
    "\n",
    "ls.fit(xtr, ytr)\n",
    "\n",
    "ls.score(xt, yt)"
   ]
  },
  {
   "cell_type": "code",
   "execution_count": null,
   "id": "a4b268cc",
   "metadata": {},
   "outputs": [],
   "source": [
    "# this is slightly different\n",
    "# let us play with alpha value"
   ]
  },
  {
   "cell_type": "code",
   "execution_count": 26,
   "id": "bafd9f0c",
   "metadata": {},
   "outputs": [
    {
     "data": {
      "text/plain": [
       "0.4781100580089759"
      ]
     },
     "execution_count": 26,
     "metadata": {},
     "output_type": "execute_result"
    }
   ],
   "source": [
    "rd2 = Ridge(alpha=2) # default value of alpha = 1, which is main parameter\n",
    "\n",
    "rd2.fit(xtr, ytr)\n",
    "\n",
    "rd2.score(xt, yt)"
   ]
  },
  {
   "cell_type": "code",
   "execution_count": null,
   "id": "09706212",
   "metadata": {},
   "outputs": [],
   "source": [
    "# very slight impact"
   ]
  },
  {
   "cell_type": "code",
   "execution_count": 27,
   "id": "cde0c5cb",
   "metadata": {},
   "outputs": [
    {
     "data": {
      "text/plain": [
       "0.47517106197802605"
      ]
     },
     "execution_count": 27,
     "metadata": {},
     "output_type": "execute_result"
    }
   ],
   "source": [
    "ls2 = Lasso(alpha=2) # default value of alpha = 1, which is main parameter\n",
    "\n",
    "ls2.fit(xtr, ytr)\n",
    "\n",
    "ls2.score(xt, yt)"
   ]
  },
  {
   "cell_type": "code",
   "execution_count": null,
   "id": "42904192",
   "metadata": {},
   "outputs": [],
   "source": [
    "# we can play with alpha to see which is the best value"
   ]
  },
  {
   "cell_type": "code",
   "execution_count": 28,
   "id": "0b397dae",
   "metadata": {},
   "outputs": [
    {
     "data": {
      "text/plain": [
       "0.4724183673130964"
      ]
     },
     "execution_count": 28,
     "metadata": {},
     "output_type": "execute_result"
    }
   ],
   "source": [
    "ls3 = Lasso(alpha=3) # default value of alpha = 1, which is main parameter\n",
    "\n",
    "ls3.fit(xtr, ytr)\n",
    "\n",
    "ls3.score(xt, yt)"
   ]
  },
  {
   "cell_type": "code",
   "execution_count": 29,
   "id": "a850910b",
   "metadata": {},
   "outputs": [],
   "source": [
    "# we can use hyper parameter tuning to find best alpha value for best accuracy - will go through later\n",
    "# RMSE"
   ]
  },
  {
   "cell_type": "code",
   "execution_count": 30,
   "id": "5a755b8e",
   "metadata": {},
   "outputs": [
    {
     "data": {
      "text/plain": [
       "array([ 60.30704955,  70.39469808,  79.07350641, ...,  44.27842228,\n",
       "        69.95494891, 200.07829378])"
      ]
     },
     "execution_count": 30,
     "metadata": {},
     "output_type": "execute_result"
    }
   ],
   "source": [
    "# testing RMSE\n",
    "ypred = lr.predict(xt)\n",
    "ypred"
   ]
  },
  {
   "cell_type": "code",
   "execution_count": 36,
   "id": "4a7e3393",
   "metadata": {},
   "outputs": [],
   "source": [
    "from sklearn.metrics import mean_squared_error as mse\n",
    "# mse is most common cost function used in ML - many other cost functions are also used"
   ]
  },
  {
   "cell_type": "code",
   "execution_count": 38,
   "id": "12190662",
   "metadata": {},
   "outputs": [
    {
     "name": "stdout",
     "output_type": "stream",
     "text": [
      "MSE:  10240.543804325935\n",
      "RMSE:  101.19557205888968\n"
     ]
    }
   ],
   "source": [
    "ms_error = mse(yt, ypred)\n",
    "rmse = np.sqrt(ms_error)\n",
    "print('MSE: ', ms_error)\n",
    "print('RMSE: ', rmse)"
   ]
  },
  {
   "cell_type": "code",
   "execution_count": 39,
   "id": "7e31421e",
   "metadata": {},
   "outputs": [],
   "source": [
    "# this is very large error\n",
    "# let us find R-square\n",
    "from sklearn.metrics import r2_score"
   ]
  },
  {
   "cell_type": "code",
   "execution_count": 40,
   "id": "9da42f38",
   "metadata": {},
   "outputs": [
    {
     "data": {
      "text/plain": [
       "0.4781208054019941"
      ]
     },
     "execution_count": 40,
     "metadata": {},
     "output_type": "execute_result"
    }
   ],
   "source": [
    "r2_score(yt, ypred)"
   ]
  },
  {
   "cell_type": "code",
   "execution_count": null,
   "id": "38d60341",
   "metadata": {},
   "outputs": [],
   "source": [
    "# this is same as lr.score function"
   ]
  }
 ],
 "metadata": {
  "kernelspec": {
   "display_name": "Python 3 (ipykernel)",
   "language": "python",
   "name": "python3"
  },
  "language_info": {
   "codemirror_mode": {
    "name": "ipython",
    "version": 3
   },
   "file_extension": ".py",
   "mimetype": "text/x-python",
   "name": "python",
   "nbconvert_exporter": "python",
   "pygments_lexer": "ipython3",
   "version": "3.9.13"
  }
 },
 "nbformat": 4,
 "nbformat_minor": 5
}
