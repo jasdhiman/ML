{
 "cells": [
  {
   "cell_type": "markdown",
   "id": "00f52852",
   "metadata": {},
   "source": [
    "### Notes - SVM"
   ]
  },
  {
   "cell_type": "code",
   "execution_count": 1,
   "id": "3bc0e094",
   "metadata": {},
   "outputs": [],
   "source": [
    "# SVM is supervised learning under ML\n",
    "# supervised learning can be classification (cat vars) or regression (continous variables)\n",
    "# SVM can do both\n",
    "# let us consider classification dataset (females on left and males on right - suppose the images are on a graph)\n",
    "# there is a decision boundary that separates males and females - we have to find that decision boundary\n",
    "# even if for training dataset, a number of decision boundaries can classify males-females with 100% accurcy\n",
    "# but this may not be very well for test dataset\n",
    "# so how to find the appropriate decision boundary\n",
    "\n",
    "# calculate distance of the left and right points (vector) from the decision boundary\n",
    "# we create a margin using the left vectors and another margin using right vectors and create 2 lines (margins)\n",
    "# now for another decision boundary, we do the same thing - we want to see which decision boundary has larger width/margin\n",
    "# the margin width is called rho\n",
    "# the decision boundary is known as hyper plane\n",
    "# equation of hyper plane is w^T (transpose).x + b = 0\n",
    "# left margin of hyperplane is w^T (transpose).x + b = -1 and right margin is w^T (transpose).x + b = 1\n",
    "# the distance of left margin from hyper plane is called D- and right margin - D+\n",
    "# equation to calculate distance of a datapoint to the hyper plane is r = w^T (transpose).x(sub-i) + b / |w| (magnitude of w)\n",
    "# the data points closest to the hyperplane are called support vectors - because we take their support to develop the hyperplane\n",
    "# this method is called linear support vector classifier (LSVC)\n",
    "# mathematical equation is f(x) = sign(w^T.x + b) (T is transpose)\n",
    "\n",
    "# sometimes we have noisy dataset (e.g. female image in males and vice-versa) - then we add a slack variable\n",
    "# wrongly place male image datapoint distance from male margin is Ej and \n",
    "# wrongly place female image datapoint distance from female margin is Ei - these 2 make the slack variable\n",
    "# as the name suggests, slack variables allow certain constraints to be violated\n",
    "\n",
    "# when linear classification cannot be used - then we use higher degree to classify the dataset\n",
    "# using degree we can make the classes which were in a line (linear) deviate along a curve\n",
    "# then we can easily use decsion boundary hyperplane\n",
    "\n",
    "# another example is when 2 types of images / classes are concentric (one within another)\n",
    "# circular fashion\n",
    "# but circle cannot be used as a boundary - it can cause errors\n",
    "# we convert 2d dataset to multiple dimensions, 3d in this case\n",
    "# there will be a dimension, along which the 2 classses can be separated\n",
    "# hyper plane can be used to separate the 2\n",
    "# to implement this practically, we use mathematics - e.g. Kernel tricks (linear, polynomial, gaussian, sigmoid, etc.)\n",
    "\n",
    "# linear SV regression (LSVR)\n",
    "# here also we have margins, let us assume we have a single variable in linear formar\n",
    "# we create a hyperplane such that maximum datapoints come within the margins. left and right margins are - and + epsilon apart from hyperplane\n",
    "# if we use epsilon value higher, we will have wide band and vice-versa\n",
    "# this technique is different than linear regression (best fit line) such that the error should not exceed the threshold\n",
    "# means error should not be greater than epsilon\n",
    "# points outside the band are called support vector\n",
    "# if dataset is not in linear format, then we use kernels (e.g. polynomial with degree 2)\n"
   ]
  },
  {
   "cell_type": "markdown",
   "id": "d316b0ad",
   "metadata": {},
   "source": [
    "### Predict house prices - Regression"
   ]
  },
  {
   "cell_type": "code",
   "execution_count": 2,
   "id": "df6953a2",
   "metadata": {},
   "outputs": [],
   "source": [
    "# import libraries\n",
    "import pandas as pd"
   ]
  },
  {
   "cell_type": "code",
   "execution_count": 3,
   "id": "d28cca1d",
   "metadata": {},
   "outputs": [],
   "source": [
    "# load dataset (from link - it is cleaned)\n",
    "path = r\"https://drive.google.com/uc?export=download&id=1xxDtrZKfuWQfl-6KA9XEd_eatitNPnkB\" \n",
    "df = pd.read_csv(path)"
   ]
  },
  {
   "cell_type": "code",
   "execution_count": 4,
   "id": "6d30da2e",
   "metadata": {},
   "outputs": [
    {
     "data": {
      "text/html": [
       "<div>\n",
       "<style scoped>\n",
       "    .dataframe tbody tr th:only-of-type {\n",
       "        vertical-align: middle;\n",
       "    }\n",
       "\n",
       "    .dataframe tbody tr th {\n",
       "        vertical-align: top;\n",
       "    }\n",
       "\n",
       "    .dataframe thead th {\n",
       "        text-align: right;\n",
       "    }\n",
       "</style>\n",
       "<table border=\"1\" class=\"dataframe\">\n",
       "  <thead>\n",
       "    <tr style=\"text-align: right;\">\n",
       "      <th></th>\n",
       "      <th>bath</th>\n",
       "      <th>balcony</th>\n",
       "      <th>price</th>\n",
       "      <th>total_sqft_int</th>\n",
       "      <th>bhk</th>\n",
       "      <th>price_per_sqft</th>\n",
       "      <th>area_typeSuper built-up  Area</th>\n",
       "      <th>area_typeBuilt-up  Area</th>\n",
       "      <th>area_typePlot  Area</th>\n",
       "      <th>availability_Ready To Move</th>\n",
       "      <th>...</th>\n",
       "      <th>location_Kalena Agrahara</th>\n",
       "      <th>location_Horamavu Agara</th>\n",
       "      <th>location_Vidyaranyapura</th>\n",
       "      <th>location_BTM 2nd Stage</th>\n",
       "      <th>location_Hebbal Kempapura</th>\n",
       "      <th>location_Hosur Road</th>\n",
       "      <th>location_Horamavu Banaswadi</th>\n",
       "      <th>location_Domlur</th>\n",
       "      <th>location_Mahadevpura</th>\n",
       "      <th>location_Tumkur Road</th>\n",
       "    </tr>\n",
       "  </thead>\n",
       "  <tbody>\n",
       "    <tr>\n",
       "      <th>0</th>\n",
       "      <td>3.0</td>\n",
       "      <td>2.0</td>\n",
       "      <td>150.0</td>\n",
       "      <td>1672.0</td>\n",
       "      <td>3</td>\n",
       "      <td>8971.291866</td>\n",
       "      <td>1</td>\n",
       "      <td>0</td>\n",
       "      <td>0</td>\n",
       "      <td>1</td>\n",
       "      <td>...</td>\n",
       "      <td>0</td>\n",
       "      <td>0</td>\n",
       "      <td>0</td>\n",
       "      <td>0</td>\n",
       "      <td>0</td>\n",
       "      <td>0</td>\n",
       "      <td>0</td>\n",
       "      <td>0</td>\n",
       "      <td>0</td>\n",
       "      <td>0</td>\n",
       "    </tr>\n",
       "    <tr>\n",
       "      <th>1</th>\n",
       "      <td>3.0</td>\n",
       "      <td>3.0</td>\n",
       "      <td>149.0</td>\n",
       "      <td>1750.0</td>\n",
       "      <td>3</td>\n",
       "      <td>8514.285714</td>\n",
       "      <td>0</td>\n",
       "      <td>1</td>\n",
       "      <td>0</td>\n",
       "      <td>1</td>\n",
       "      <td>...</td>\n",
       "      <td>0</td>\n",
       "      <td>0</td>\n",
       "      <td>0</td>\n",
       "      <td>0</td>\n",
       "      <td>0</td>\n",
       "      <td>0</td>\n",
       "      <td>0</td>\n",
       "      <td>0</td>\n",
       "      <td>0</td>\n",
       "      <td>0</td>\n",
       "    </tr>\n",
       "    <tr>\n",
       "      <th>2</th>\n",
       "      <td>3.0</td>\n",
       "      <td>2.0</td>\n",
       "      <td>150.0</td>\n",
       "      <td>1750.0</td>\n",
       "      <td>3</td>\n",
       "      <td>8571.428571</td>\n",
       "      <td>1</td>\n",
       "      <td>0</td>\n",
       "      <td>0</td>\n",
       "      <td>1</td>\n",
       "      <td>...</td>\n",
       "      <td>0</td>\n",
       "      <td>0</td>\n",
       "      <td>0</td>\n",
       "      <td>0</td>\n",
       "      <td>0</td>\n",
       "      <td>0</td>\n",
       "      <td>0</td>\n",
       "      <td>0</td>\n",
       "      <td>0</td>\n",
       "      <td>0</td>\n",
       "    </tr>\n",
       "    <tr>\n",
       "      <th>3</th>\n",
       "      <td>2.0</td>\n",
       "      <td>2.0</td>\n",
       "      <td>40.0</td>\n",
       "      <td>1250.0</td>\n",
       "      <td>2</td>\n",
       "      <td>3200.000000</td>\n",
       "      <td>1</td>\n",
       "      <td>0</td>\n",
       "      <td>0</td>\n",
       "      <td>1</td>\n",
       "      <td>...</td>\n",
       "      <td>0</td>\n",
       "      <td>0</td>\n",
       "      <td>0</td>\n",
       "      <td>0</td>\n",
       "      <td>0</td>\n",
       "      <td>0</td>\n",
       "      <td>0</td>\n",
       "      <td>0</td>\n",
       "      <td>0</td>\n",
       "      <td>0</td>\n",
       "    </tr>\n",
       "    <tr>\n",
       "      <th>4</th>\n",
       "      <td>2.0</td>\n",
       "      <td>2.0</td>\n",
       "      <td>83.0</td>\n",
       "      <td>1200.0</td>\n",
       "      <td>2</td>\n",
       "      <td>6916.666667</td>\n",
       "      <td>0</td>\n",
       "      <td>0</td>\n",
       "      <td>1</td>\n",
       "      <td>1</td>\n",
       "      <td>...</td>\n",
       "      <td>0</td>\n",
       "      <td>0</td>\n",
       "      <td>0</td>\n",
       "      <td>0</td>\n",
       "      <td>0</td>\n",
       "      <td>0</td>\n",
       "      <td>0</td>\n",
       "      <td>0</td>\n",
       "      <td>0</td>\n",
       "      <td>0</td>\n",
       "    </tr>\n",
       "  </tbody>\n",
       "</table>\n",
       "<p>5 rows × 108 columns</p>\n",
       "</div>"
      ],
      "text/plain": [
       "   bath  balcony  price  total_sqft_int  bhk  price_per_sqft  \\\n",
       "0   3.0      2.0  150.0          1672.0    3     8971.291866   \n",
       "1   3.0      3.0  149.0          1750.0    3     8514.285714   \n",
       "2   3.0      2.0  150.0          1750.0    3     8571.428571   \n",
       "3   2.0      2.0   40.0          1250.0    2     3200.000000   \n",
       "4   2.0      2.0   83.0          1200.0    2     6916.666667   \n",
       "\n",
       "   area_typeSuper built-up  Area  area_typeBuilt-up  Area  \\\n",
       "0                              1                        0   \n",
       "1                              0                        1   \n",
       "2                              1                        0   \n",
       "3                              1                        0   \n",
       "4                              0                        0   \n",
       "\n",
       "   area_typePlot  Area  availability_Ready To Move  ...  \\\n",
       "0                    0                           1  ...   \n",
       "1                    0                           1  ...   \n",
       "2                    0                           1  ...   \n",
       "3                    0                           1  ...   \n",
       "4                    1                           1  ...   \n",
       "\n",
       "   location_Kalena Agrahara  location_Horamavu Agara  location_Vidyaranyapura  \\\n",
       "0                         0                        0                        0   \n",
       "1                         0                        0                        0   \n",
       "2                         0                        0                        0   \n",
       "3                         0                        0                        0   \n",
       "4                         0                        0                        0   \n",
       "\n",
       "   location_BTM 2nd Stage  location_Hebbal Kempapura  location_Hosur Road  \\\n",
       "0                       0                          0                    0   \n",
       "1                       0                          0                    0   \n",
       "2                       0                          0                    0   \n",
       "3                       0                          0                    0   \n",
       "4                       0                          0                    0   \n",
       "\n",
       "   location_Horamavu Banaswadi  location_Domlur  location_Mahadevpura  \\\n",
       "0                            0                0                     0   \n",
       "1                            0                0                     0   \n",
       "2                            0                0                     0   \n",
       "3                            0                0                     0   \n",
       "4                            0                0                     0   \n",
       "\n",
       "   location_Tumkur Road  \n",
       "0                     0  \n",
       "1                     0  \n",
       "2                     0  \n",
       "3                     0  \n",
       "4                     0  \n",
       "\n",
       "[5 rows x 108 columns]"
      ]
     },
     "execution_count": 4,
     "metadata": {},
     "output_type": "execute_result"
    }
   ],
   "source": [
    "df.head()"
   ]
  },
  {
   "cell_type": "markdown",
   "id": "4f2efce6",
   "metadata": {},
   "source": [
    "#### SPlitting the data"
   ]
  },
  {
   "cell_type": "code",
   "execution_count": 5,
   "id": "62b50f2a",
   "metadata": {},
   "outputs": [
    {
     "name": "stdout",
     "output_type": "stream",
     "text": [
      "Shape of X =  (7120, 107)\n",
      "Shape of y =  (7120,)\n"
     ]
    }
   ],
   "source": [
    "X = df.drop('price', axis=1)\n",
    "y = df['price'] # target feature\n",
    "\n",
    "print('Shape of X = ', X.shape)\n",
    "print('Shape of y = ', y.shape)"
   ]
  },
  {
   "cell_type": "code",
   "execution_count": 6,
   "id": "70738852",
   "metadata": {},
   "outputs": [
    {
     "name": "stdout",
     "output_type": "stream",
     "text": [
      "Shape of X_train =  (5696, 107)\n",
      "Shape of y_train =  (5696,)\n",
      "Shape of X_test =  (1424, 107)\n",
      "Shape of y_test =  (1424,)\n"
     ]
    }
   ],
   "source": [
    "# train test split\n",
    "from sklearn.model_selection import train_test_split\n",
    "X_train, X_test, y_train, y_test = train_test_split(X, y, test_size=0.2, random_state=108)\n",
    "\n",
    "print('Shape of X_train = ', X_train.shape)\n",
    "print('Shape of y_train = ', y_train.shape)\n",
    "print('Shape of X_test = ', X_test.shape)\n",
    "print('Shape of y_test = ', y_test.shape)"
   ]
  },
  {
   "cell_type": "code",
   "execution_count": 7,
   "id": "8614f208",
   "metadata": {},
   "outputs": [
    {
     "data": {
      "text/plain": [
       "StandardScaler()"
      ]
     },
     "execution_count": 7,
     "metadata": {},
     "output_type": "execute_result"
    }
   ],
   "source": [
    "# feature scaling (because of ranges / units of different features)\n",
    "from sklearn.preprocessing import StandardScaler\n",
    "sc = StandardScaler()\n",
    "\n",
    "sc.fit(X_train)\n"
   ]
  },
  {
   "cell_type": "code",
   "execution_count": 8,
   "id": "dad794e6",
   "metadata": {},
   "outputs": [],
   "source": [
    "# now we transform data / scale the data\n",
    "X_train = sc.transform(X_train)\n",
    "X_test = sc.transform(X_test)"
   ]
  },
  {
   "cell_type": "code",
   "execution_count": 9,
   "id": "7062539b",
   "metadata": {},
   "outputs": [],
   "source": [
    "# performing SVR\n",
    "from sklearn.svm import SVR # for classifier write SVC"
   ]
  },
  {
   "cell_type": "code",
   "execution_count": 11,
   "id": "a91732b2",
   "metadata": {},
   "outputs": [
    {
     "data": {
      "text/plain": [
       "0.2975977969870901"
      ]
     },
     "execution_count": 11,
     "metadata": {},
     "output_type": "execute_result"
    }
   ],
   "source": [
    "svr_rbf = SVR(kernel='rbf') # rbf is default value - radial basis function - also called Gaussian\n",
    "# KERNEL IS VERY IMPORTANT\n",
    "# now training model\n",
    "svr_rbf.fit(X_train, y_train)\n",
    "svr_rbf.score(X_test, y_test)"
   ]
  },
  {
   "cell_type": "code",
   "execution_count": 12,
   "id": "61a177c8",
   "metadata": {},
   "outputs": [
    {
     "data": {
      "text/plain": [
       "0.8191327965862402"
      ]
     },
     "execution_count": 12,
     "metadata": {},
     "output_type": "execute_result"
    }
   ],
   "source": [
    "# this is poor value\n",
    "# let us try linear kernel\n",
    "svr_lin = SVR(kernel='linear') \n",
    "svr_lin.fit(X_train, y_train)\n",
    "svr_lin.score(X_test, y_test)"
   ]
  },
  {
   "cell_type": "code",
   "execution_count": 13,
   "id": "083351a6",
   "metadata": {},
   "outputs": [
    {
     "data": {
      "text/plain": [
       "0.12076539068611114"
      ]
     },
     "execution_count": 13,
     "metadata": {},
     "output_type": "execute_result"
    }
   ],
   "source": [
    "# this is great accuracy\n",
    "# let us try poly reg\n",
    "svr_poly = SVR(kernel='poly', degree = 2) \n",
    "svr_poly.fit(X_train, y_train)\n",
    "svr_poly.score(X_test, y_test)"
   ]
  },
  {
   "cell_type": "code",
   "execution_count": null,
   "id": "0cd0c87d",
   "metadata": {},
   "outputs": [],
   "source": [
    "# this is very poor accuracy - linear kernel is the best\n",
    "# we can also use hyper-parameter tuning to set values of all parameters within SVR function (later)"
   ]
  },
  {
   "cell_type": "code",
   "execution_count": 15,
   "id": "9b989770",
   "metadata": {},
   "outputs": [
    {
     "data": {
      "text/plain": [
       "array([68.82842776])"
      ]
     },
     "execution_count": 15,
     "metadata": {},
     "output_type": "execute_result"
    }
   ],
   "source": [
    "# let us predict house prices values - linear SVR model\n",
    "svr_lin.predict([X_test[0]]) # testing price of first house\n"
   ]
  },
  {
   "cell_type": "code",
   "execution_count": 27,
   "id": "f5e383ad",
   "metadata": {},
   "outputs": [
    {
     "data": {
      "text/plain": [
       "3588     68.20\n",
       "139     110.00\n",
       "5601    180.00\n",
       "853      71.73\n",
       "2792    130.00\n",
       "         ...  \n",
       "2157     30.75\n",
       "174      73.00\n",
       "6644     52.00\n",
       "1965     65.00\n",
       "3205     66.00\n",
       "Name: price, Length: 1424, dtype: float64"
      ]
     },
     "execution_count": 27,
     "metadata": {},
     "output_type": "execute_result"
    }
   ],
   "source": [
    "# it is 68.83 lakhs - let us see what the actual value was\n",
    "y_test"
   ]
  },
  {
   "cell_type": "code",
   "execution_count": 29,
   "id": "2de4698a",
   "metadata": {},
   "outputs": [
    {
     "data": {
      "text/plain": [
       "array([ 68.82842776, 124.76134169, 168.20828547, ...,  51.7263627 ,\n",
       "        66.23143847,  67.47637549])"
      ]
     },
     "execution_count": 29,
     "metadata": {},
     "output_type": "execute_result"
    }
   ],
   "source": [
    "# it is 68.2, which is close\n",
    "# getting predicted values\n",
    "y_pred = svr_lin.predict(X_test)\n",
    "y_pred # viewing"
   ]
  },
  {
   "cell_type": "code",
   "execution_count": 30,
   "id": "2befeef0",
   "metadata": {},
   "outputs": [
    {
     "name": "stdout",
     "output_type": "stream",
     "text": [
      "MSE =  1917.0108741434606\n",
      "RMSE =  43.78368273847531\n"
     ]
    }
   ],
   "source": [
    "# comparing y_test and Y_pred\n",
    "from sklearn.metrics import mean_squared_error\n",
    "import numpy as np\n",
    "\n",
    "mse = mean_squared_error(y_test, y_pred)\n",
    "rmse = np.sqrt(mse)\n",
    "\n",
    "print('MSE = ', mse)\n",
    "print('RMSE = ', rmse)"
   ]
  },
  {
   "cell_type": "code",
   "execution_count": 31,
   "id": "66fbac01",
   "metadata": {},
   "outputs": [],
   "source": [
    "# RMSE seems high, but R2 is ok"
   ]
  }
 ],
 "metadata": {
  "kernelspec": {
   "display_name": "Python 3 (ipykernel)",
   "language": "python",
   "name": "python3"
  },
  "language_info": {
   "codemirror_mode": {
    "name": "ipython",
    "version": 3
   },
   "file_extension": ".py",
   "mimetype": "text/x-python",
   "name": "python",
   "nbconvert_exporter": "python",
   "pygments_lexer": "ipython3",
   "version": "3.9.13"
  }
 },
 "nbformat": 4,
 "nbformat_minor": 5
}
