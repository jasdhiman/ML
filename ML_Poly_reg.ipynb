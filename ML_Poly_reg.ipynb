{
 "cells": [
  {
   "cell_type": "markdown",
   "id": "31c8f56f",
   "metadata": {},
   "source": [
    "### Polynomial Linear Regression"
   ]
  },
  {
   "cell_type": "code",
   "execution_count": 2,
   "id": "005bc64c",
   "metadata": {},
   "outputs": [],
   "source": [
    "# if the degree of polynomial is too high, it may lead to overfitting\n",
    "# only when data is very large, we can use this technique - but takes a lot of computation power"
   ]
  },
  {
   "cell_type": "markdown",
   "id": "36393fd7",
   "metadata": {},
   "source": [
    "##### used the linear regression code developed for prediction of house prices\n",
    "Then save that clean file and use it here"
   ]
  },
  {
   "cell_type": "code",
   "execution_count": 12,
   "id": "1558a648",
   "metadata": {},
   "outputs": [],
   "source": [
    "# importing resources\n",
    "import pandas as pd\n",
    "import numpy as np\n",
    "\n",
    "# importing\n",
    "path = r\"C:\\DS\\house_price\\df_clean.csv\"\n",
    "df = pd.read_csv(path)\n",
    "\n",
    "# performing regression with this dataset as in previous case\n",
    "# splittin x y\n",
    "x = df.drop(['price'], axis=1)\n",
    "y = df['price']\n",
    "\n",
    "# train test split\n",
    "from sklearn.model_selection import train_test_split as tts\n",
    "xtr, xt, ytr, yt = tts(x, y, test_size=0.2, random_state=108)\n",
    "\n",
    "# feature scaling\n",
    "from sklearn.preprocessing import StandardScaler\n",
    "sc = StandardScaler()\n",
    "sc.fit(xtr)\n",
    "xtr = sc.transform(xtr)\n",
    "xt = sc.transform(xt) # we do not transformthe response"
   ]
  },
  {
   "cell_type": "markdown",
   "id": "ba56a9b1",
   "metadata": {},
   "source": [
    "### Polynommial regression"
   ]
  },
  {
   "cell_type": "code",
   "execution_count": 24,
   "id": "06880539",
   "metadata": {},
   "outputs": [],
   "source": [
    "from sklearn.linear_model import LinearRegression\n",
    "from sklearn.preprocessing import PolynomialFeatures as pf"
   ]
  },
  {
   "cell_type": "code",
   "execution_count": 14,
   "id": "608fa5e9",
   "metadata": {},
   "outputs": [],
   "source": [
    "polyreg = pf(degree=2) # degree = 2, we will get x and x^2 features\n",
    "polyreg.fit(xtr) # fitting training X\n",
    "xtr_p = polyreg.transform(xtr)\n",
    "xt_p = polyreg.transform(xt) # same functions when performing standard scaler fit"
   ]
  },
  {
   "cell_type": "code",
   "execution_count": 15,
   "id": "64a999db",
   "metadata": {},
   "outputs": [
    {
     "data": {
      "text/plain": [
       "(10556, 55)"
      ]
     },
     "execution_count": 15,
     "metadata": {},
     "output_type": "execute_result"
    }
   ],
   "source": [
    "# checking how many variables increased\n",
    "xtr_p.shape"
   ]
  },
  {
   "cell_type": "code",
   "execution_count": 16,
   "id": "e3c84735",
   "metadata": {},
   "outputs": [
    {
     "data": {
      "text/plain": [
       "(10556, 9)"
      ]
     },
     "execution_count": 16,
     "metadata": {},
     "output_type": "execute_result"
    }
   ],
   "source": [
    "# original\n",
    "xtr.shape"
   ]
  },
  {
   "cell_type": "code",
   "execution_count": 25,
   "id": "38d3498d",
   "metadata": {},
   "outputs": [
    {
     "data": {
      "text/plain": [
       "0.5951138558991564"
      ]
     },
     "execution_count": 25,
     "metadata": {},
     "output_type": "execute_result"
    }
   ],
   "source": [
    "# we went from 9 to 55\n",
    "# now we perform lr\n",
    "lr = LinearRegression()\n",
    "lr.fit(xtr_p, ytr)\n",
    "lr.score(xt_p, yt)"
   ]
  },
  {
   "cell_type": "code",
   "execution_count": 32,
   "id": "0c1da4bb",
   "metadata": {},
   "outputs": [
    {
     "name": "stdout",
     "output_type": "stream",
     "text": [
      "MSE:  7944.85455129725\n",
      "RMSE:  89.13391358678945\n"
     ]
    }
   ],
   "source": [
    "# we improved accuracy\n",
    "# checking rmse\n",
    "# testing RMSE\n",
    "ypred = lr.predict(xt_p)\n",
    "\n",
    "from sklearn.metrics import mean_squared_error as mse\n",
    "# mse is most common cost function used in ML - many other cost functions are also used\n",
    "\n",
    "ms_error = mse(yt, ypred)\n",
    "rmse = np.sqrt(ms_error)\n",
    "print('MSE: ', ms_error)\n",
    "print('RMSE: ', rmse)"
   ]
  },
  {
   "cell_type": "code",
   "execution_count": null,
   "id": "de6c5dff",
   "metadata": {},
   "outputs": [],
   "source": [
    "# RMSE is still high"
   ]
  }
 ],
 "metadata": {
  "kernelspec": {
   "display_name": "Python 3 (ipykernel)",
   "language": "python",
   "name": "python3"
  },
  "language_info": {
   "codemirror_mode": {
    "name": "ipython",
    "version": 3
   },
   "file_extension": ".py",
   "mimetype": "text/x-python",
   "name": "python",
   "nbconvert_exporter": "python",
   "pygments_lexer": "ipython3",
   "version": "3.9.13"
  }
 },
 "nbformat": 4,
 "nbformat_minor": 5
}
